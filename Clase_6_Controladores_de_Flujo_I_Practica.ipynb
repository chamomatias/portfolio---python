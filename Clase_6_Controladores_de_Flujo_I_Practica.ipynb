{
  "nbformat": 4,
  "nbformat_minor": 0,
  "metadata": {
    "colab": {
      "provenance": [],
      "include_colab_link": true
    },
    "kernelspec": {
      "name": "python3",
      "display_name": "Python 3"
    },
    "language_info": {
      "name": "python"
    }
  },
  "cells": [
    {
      "cell_type": "markdown",
      "metadata": {
        "id": "view-in-github",
        "colab_type": "text"
      },
      "source": [
        "<a href=\"https://colab.research.google.com/github/chamomatias/portfolio_python/blob/main/Clase_6_Controladores_de_Flujo_I_Practica.ipynb\" target=\"_parent\"><img src=\"https://colab.research.google.com/assets/colab-badge.svg\" alt=\"Open In Colab\"/></a>"
      ]
    },
    {
      "cell_type": "markdown",
      "source": [
        "# Condicionales"
      ],
      "metadata": {
        "id": "JKdTuk9a_pbZ"
      }
    },
    {
      "cell_type": "markdown",
      "source": [
        "## Inicio - Condicionales"
      ],
      "metadata": {
        "id": "mK_E3VTrO2Ju"
      }
    },
    {
      "cell_type": "markdown",
      "source": [
        "Ejecutar el código y analizar los resultados"
      ],
      "metadata": {
        "id": "vX_AH2zcEIdY"
      }
    },
    {
      "cell_type": "code",
      "source": [
        "# Inicializamos la variable 'edad' con un valor específico\n",
        "edad = 22\n",
        "\n",
        "# Condición que verifica si la persona es mayor de edad\n",
        "if edad >= 18:\n",
        "    # Si la condición se cumple (edad es mayor o igual a 18), se imprime el mensaje\n",
        "    print(\"Es mayor de edad\")\n",
        "else:\n",
        "    # Si la condición no se cumple (edad es menor a 18), se imprime este mensaje\n",
        "    print(\"Es menor de edad\")\n",
        "\n",
        "# Imprime un mensaje al final del programa, siempre se ejecuta\n",
        "print(\"Fin del programa\")\n"
      ],
      "metadata": {
        "id": "cikrWahCO4uu",
        "colab": {
          "base_uri": "https://localhost:8080/"
        },
        "outputId": "bfdf0696-da5c-46a3-c76e-50733bc69b1f"
      },
      "execution_count": 1,
      "outputs": [
        {
          "output_type": "stream",
          "name": "stdout",
          "text": [
            "Es mayor de edad\n",
            "Fin del programa\n"
          ]
        }
      ]
    },
    {
      "cell_type": "code",
      "source": [
        "# Pedimos al usuario que ingrese su edad\n",
        "edad = int(input(\"Ingresa tu edad: \"))\n",
        "\n",
        "if edad >= 18:\n",
        "    print(\"Es mayor de edad\")\n",
        "else:\n",
        "    print(\"Es menor de edad\")\n",
        "\n",
        "print(\"Fin del programa\")\n"
      ],
      "metadata": {
        "colab": {
          "base_uri": "https://localhost:8080/"
        },
        "id": "GBR54z5ttLhP",
        "outputId": "6dbadaee-2d6a-486c-bcb3-6f6ef7616d6f"
      },
      "execution_count": 2,
      "outputs": [
        {
          "output_type": "stream",
          "name": "stdout",
          "text": [
            "Ingresa tu edad: 32\n",
            "Es mayor de edad\n",
            "Fin del programa\n"
          ]
        }
      ]
    },
    {
      "cell_type": "markdown",
      "source": [
        "## if"
      ],
      "metadata": {
        "id": "_Cna9Uz5JbfF"
      }
    },
    {
      "cell_type": "code",
      "source": [
        "# Se establece una condición que siempre será verdadera (True)\n",
        "if True:\n",
        "    # Este bloque se ejecuta siempre que la condición sea verdadera\n",
        "    print('Se cumple la condición')\n",
        "\n",
        "# Si el bloque de código anterior se ejecuta, imprimirá 'Se cumple la condición'\n"
      ],
      "metadata": {
        "id": "avlbLwRi_nol",
        "colab": {
          "base_uri": "https://localhost:8080/"
        },
        "outputId": "bd87f596-f32c-425a-8e34-f6a17f49787c"
      },
      "execution_count": 4,
      "outputs": [
        {
          "output_type": "stream",
          "name": "stdout",
          "text": [
            "Se cumple la condición\n"
          ]
        }
      ]
    },
    {
      "cell_type": "code",
      "source": [
        "edad = 22\n",
        "\n",
        "# Verificamos si la persona tiene la edad suficiente\n",
        "if edad >= 18:\n",
        "    print('Se cumple la condición: Es mayor de edad')\n",
        "else:\n",
        "    print('No se cumple la condición: Es menor de edad')\n"
      ],
      "metadata": {
        "colab": {
          "base_uri": "https://localhost:8080/"
        },
        "id": "PCcABlDytpdM",
        "outputId": "99e42c61-20f6-41c5-e8f0-eb2e2b2585cb"
      },
      "execution_count": 5,
      "outputs": [
        {
          "output_type": "stream",
          "name": "stdout",
          "text": [
            "Se cumple la condición: Es mayor de edad\n"
          ]
        }
      ]
    },
    {
      "cell_type": "code",
      "source": [
        "# Se asigna el valor 100 a la variable 'edad'\n",
        "edad = 100\n",
        "\n",
        "# Condición que verifica si la persona es mayor o igual a 18 años\n",
        "if edad >= 18:\n",
        "    # Si la condición es verdadera (edad mayor o igual a 18), se ejecutan las siguientes líneas\n",
        "    print('Es un adulto')  # Imprime 'Es un adulto'\n",
        "    print(\"Más líneas\")     # Imprime 'Más líneas'\n",
        "\n",
        "# Esta línea se ejecuta independientemente de la condición\n",
        "print(\"Acá sigue el código\")\n"
      ],
      "metadata": {
        "id": "4GjcojtKAMXz",
        "colab": {
          "base_uri": "https://localhost:8080/"
        },
        "outputId": "8682cea9-1d17-47ac-8983-90917669fedd"
      },
      "execution_count": 6,
      "outputs": [
        {
          "output_type": "stream",
          "name": "stdout",
          "text": [
            "Es un adulto\n",
            "Más líneas\n",
            "Acá sigue el código\n"
          ]
        }
      ]
    },
    {
      "cell_type": "markdown",
      "source": [
        "### Indentación"
      ],
      "metadata": {
        "id": "UL8tbtstE07h"
      }
    },
    {
      "cell_type": "code",
      "source": [
        "edad =  50\n",
        "if edad >= 18:\n",
        "print('Es un adulto')\n",
        "print(\"Más líneas\")\n",
        "\n",
        "print(\"Acá sigue el código\")"
      ],
      "metadata": {
        "id": "SEtKB8VPFdFN",
        "colab": {
          "base_uri": "https://localhost:8080/",
          "height": 106
        },
        "outputId": "caa1c2e9-1034-41c7-ee62-34d49605f264"
      },
      "execution_count": null,
      "outputs": [
        {
          "output_type": "error",
          "ename": "IndentationError",
          "evalue": "expected an indented block after 'if' statement on line 2 (<ipython-input-9-f052f52b1e54>, line 3)",
          "traceback": [
            "\u001b[0;36m  File \u001b[0;32m\"<ipython-input-9-f052f52b1e54>\"\u001b[0;36m, line \u001b[0;32m3\u001b[0m\n\u001b[0;31m    print('Es un adulto')\u001b[0m\n\u001b[0m    ^\u001b[0m\n\u001b[0;31mIndentationError\u001b[0m\u001b[0;31m:\u001b[0m expected an indented block after 'if' statement on line 2\n"
          ]
        }
      ]
    },
    {
      "cell_type": "code",
      "source": [
        "# Asignamos valores a las variables 'a' y 'b'\n",
        "a = 25\n",
        "b = 50\n",
        "\n",
        "# Primera condición: verificamos si 'b' es mayor que 'a'\n",
        "if b > a:\n",
        "    print(\"b es más grande que a\")  # Este mensaje se imprimirá si 'b' es mayor que 'a'\n",
        "    print(\"b es más grande que a\")  # Este mensaje también se imprimirá si la condición es verdadera\n",
        "\n",
        "# Segunda condición: verificamos nuevamente si 'b' es mayor que 'a'\n",
        "if b > a:\n",
        "    print(\"b es más grande que a\")  # Este mensaje se imprimirá si la condición es verdadera\n",
        "\n",
        "# Esta línea siempre se ejecutará, independientemente de las condiciones anteriores\n",
        "print(\"El código continúa\")\n"
      ],
      "metadata": {
        "id": "4hFXTOjrE3LP",
        "colab": {
          "base_uri": "https://localhost:8080/"
        },
        "outputId": "9d819a7b-69c1-4675-f8af-9032055dd4fe"
      },
      "execution_count": 7,
      "outputs": [
        {
          "output_type": "stream",
          "name": "stdout",
          "text": [
            "b es más grande que a\n",
            "b es más grande que a\n",
            "b es más grande que a\n",
            "El código continúa\n"
          ]
        }
      ]
    },
    {
      "cell_type": "code",
      "source": [
        "# Inicializamos una lista vacía\n",
        "lista = []\n",
        "\n",
        "# Verificamos si la lista está vacía usando la condición 'not lista'\n",
        "if not lista:\n",
        "    # Si la lista está vacía, se ejecuta esta línea\n",
        "    print(\"El carrito está vacío\")\n"
      ],
      "metadata": {
        "id": "WCNB1i45Pw3C",
        "colab": {
          "base_uri": "https://localhost:8080/"
        },
        "outputId": "680a15ba-c9bb-4d07-9bc0-852afca28043"
      },
      "execution_count": 9,
      "outputs": [
        {
          "output_type": "stream",
          "name": "stdout",
          "text": [
            "El carrito está vacío\n"
          ]
        }
      ]
    },
    {
      "cell_type": "markdown",
      "source": [
        "### Ejemplos de condiciones lógicas"
      ],
      "metadata": {
        "id": "I8c2qV-sFJ5y"
      }
    },
    {
      "cell_type": "code",
      "source": [
        "# Se asignan valores a las variables 'a', 'b' y 'c'\n",
        "a = 195\n",
        "b = 30\n",
        "c = 400\n",
        "\n",
        "# Condición que verifica si ambas condiciones son verdaderas\n",
        "if a > b and c > a:\n",
        "    # Si ambas condiciones son verdaderas, se ejecuta este bloque\n",
        "    print(\"Ambas condiciones son verdaderas\")\n"
      ],
      "metadata": {
        "id": "q7hZF1XmFLxK",
        "colab": {
          "base_uri": "https://localhost:8080/"
        },
        "outputId": "29293e51-1755-4feb-b88d-cf3e8390de68"
      },
      "execution_count": 10,
      "outputs": [
        {
          "output_type": "stream",
          "name": "stdout",
          "text": [
            "Ambas condiciones son verdaderas\n"
          ]
        }
      ]
    },
    {
      "cell_type": "code",
      "source": [
        "# Asignamos valores a las variables 'a', 'b' y 'c'\n",
        "a = 195\n",
        "b = 50\n",
        "c = 500\n",
        "\n",
        "# Condición que verifica si al menos una de las condiciones es verdadera\n",
        "if a > b or a > c:\n",
        "    # Si al menos una de las condiciones es verdadera, se ejecuta este bloque\n",
        "    print(\"Al menos una de las condiciones es verdadera\")\n"
      ],
      "metadata": {
        "id": "3m8fHdpMFVsG",
        "colab": {
          "base_uri": "https://localhost:8080/"
        },
        "outputId": "4d226c47-4fc6-47c5-8406-76aa620874da"
      },
      "execution_count": 11,
      "outputs": [
        {
          "output_type": "stream",
          "name": "stdout",
          "text": [
            "Al menos una de las condiciones es verdadera\n"
          ]
        }
      ]
    },
    {
      "cell_type": "markdown",
      "source": [
        "### IF en una sóla línea\n",
        "Tenemos más ejemplos luego de conocer el \"else\""
      ],
      "metadata": {
        "id": "VhBHQ72ao7me"
      }
    },
    {
      "cell_type": "code",
      "source": [
        "a = 150\n",
        "b = 35\n",
        "if a > b: print(\"a es mayor que b\")"
      ],
      "metadata": {
        "id": "4lLkn4vapMi-",
        "colab": {
          "base_uri": "https://localhost:8080/"
        },
        "outputId": "7dcc763e-ec4a-4852-8a3c-fc1468131cae"
      },
      "execution_count": null,
      "outputs": [
        {
          "output_type": "stream",
          "name": "stdout",
          "text": [
            "a es mayor que b\n"
          ]
        }
      ]
    },
    {
      "cell_type": "markdown",
      "source": [
        "### **Ejercicios adicionales de IF**"
      ],
      "metadata": {
        "id": "X-3tcCsMAUA5"
      }
    },
    {
      "cell_type": "code",
      "source": [
        "# Lista de usuarios predefinida\n",
        "lista_usuario = [\"Jose\", \"Joel\", \"Julia\", \"Itatí\", \"Lucía\", \"Luz\", \"Franco\", \"Gaspar\", \"Gabriel\", \"Germán\"]\n",
        "\n",
        "# Pedimos al usuario que ingrese un nombre\n",
        "usuario = input(\"Ingrese nombre de usuario: \")\n",
        "\n",
        "# Verificamos si el nombre ingresado está en la lista\n",
        "if usuario in lista_usuario:\n",
        "    # Si el nombre está en la lista, mostramos que el usuario existe\n",
        "    print(f\"El usuario {usuario} existe.\")\n",
        "else:\n",
        "    # Si el nombre no está en la lista, mostramos que no existe\n",
        "    print(f\"El usuario {usuario} no existe.\")\n"
      ],
      "metadata": {
        "id": "-IiuWtoILApw",
        "colab": {
          "base_uri": "https://localhost:8080/"
        },
        "outputId": "a8b77087-252b-43da-88b0-359fff70b999"
      },
      "execution_count": 12,
      "outputs": [
        {
          "output_type": "stream",
          "name": "stdout",
          "text": [
            "Ingrese nombre de usuario: Luz\n",
            "El usuario Luz existe.\n"
          ]
        }
      ]
    },
    {
      "cell_type": "markdown",
      "source": [
        "if anidado"
      ],
      "metadata": {
        "id": "MJXqVXk3NUK3"
      }
    },
    {
      "cell_type": "code",
      "source": [
        "# Listas de usuarios y contraseñas predefinidas\n",
        "lista_usuario = [\"a\", \"Joel\", \"Julia\", \"Itatí\", \"Lucía\", \"Luz\", \"Franco\", \"Gaspar\", \"Gabriel\", \"Germán\"]\n",
        "lista_contrasenia = [\"a\", \"qwerty\", \"fgh\", \"123\", \"rty\", \"las.;,l34tlkLGJAWG\", \"456\", \"asp\", \"Gabriel\", \"admin\"]\n",
        "\n",
        "# Pedimos al usuario que ingrese su nombre y contraseña\n",
        "usuario = input(\"Ingrese nombre de usuario: \")\n",
        "contrasenia = input(\"Ingrese contraseña: \")\n",
        "\n",
        "# Verificamos si el nombre de usuario está en la lista\n",
        "if usuario in lista_usuario:\n",
        "    # Si el usuario existe, verificamos si la contraseña es correcta\n",
        "    index = lista_usuario.index(usuario)  # Obtenemos el índice del usuario\n",
        "    if lista_contrasenia[index] == contrasenia:\n",
        "        # Si la contraseña es correcta, mostramos un mensaje de éxito\n",
        "        print(\"Acceso concedido.\")\n",
        "    else:\n",
        "        # Si la contraseña es incorrecta\n",
        "        print(\"Contraseña incorrecta.\")\n",
        "else:\n",
        "    # Si el usuario no existe en la lista\n",
        "    print(\"El usuario no existe.\")\n"
      ],
      "metadata": {
        "id": "yhwEsrRTNWZv",
        "colab": {
          "base_uri": "https://localhost:8080/"
        },
        "outputId": "a1341a19-46be-43af-a199-10557b758dd8"
      },
      "execution_count": 15,
      "outputs": [
        {
          "output_type": "stream",
          "name": "stdout",
          "text": [
            "Ingrese nombre de usuario: a\n",
            "Ingrese contraseña: s\n",
            "Contraseña incorrecta.\n"
          ]
        }
      ]
    },
    {
      "cell_type": "markdown",
      "source": [
        "## else"
      ],
      "metadata": {
        "id": "QSnzmtFNLPC5"
      }
    },
    {
      "cell_type": "code",
      "source": [
        "# Asignamos el valor 24 a la variable 'numero'\n",
        "numero = 24\n",
        "\n",
        "# Verificamos si el número es mayor que 36\n",
        "if numero > 36:\n",
        "    # Si la condición es verdadera (numero > 36), se ejecuta este bloque\n",
        "    print(\"El número es grande\")\n",
        "else:\n",
        "    # Si la condición es falsa (numero <= 36), se ejecuta este bloque\n",
        "    print(\"El número es chico\")\n"
      ],
      "metadata": {
        "id": "4TvCm1K-Px03",
        "colab": {
          "base_uri": "https://localhost:8080/"
        },
        "outputId": "030d44a1-0c2e-4803-951c-e3e45bc4b824"
      },
      "execution_count": 16,
      "outputs": [
        {
          "output_type": "stream",
          "name": "stdout",
          "text": [
            "El número es chico\n"
          ]
        }
      ]
    },
    {
      "cell_type": "markdown",
      "source": [
        "### Múltiples IF"
      ],
      "metadata": {
        "id": "pPH7YQiUsKl5"
      }
    },
    {
      "cell_type": "code",
      "source": [
        "# Asignamos el valor 5000000 a la variable 'x'\n",
        "x = 5000000\n",
        "\n",
        "# Comenzamos con la primera condición: si 'x' es mayor que 10\n",
        "if x > 10:\n",
        "    print(\"por encima de diez,\")  # Se ejecuta porque 5000000 > 10\n",
        "\n",
        "    # Ahora verificamos si 'x' es mayor que 20\n",
        "    if x > 20:\n",
        "        print(\"y también por encima de 20!\")  # Se ejecuta porque 5000000 > 20\n",
        "    else:\n",
        "        print(\"pero no por encima de 20\")  # No se ejecuta porque la condición 'x > 20' es verdadera\n",
        "\n",
        "    # Verificamos si 'x' es menor que 50\n",
        "    if x < 50:\n",
        "        print(\"Es menor que 50\")  # No se ejecuta porque 5000000 no es menor que 50\n",
        "\n",
        "# Este print siempre se ejecuta al final del programa\n",
        "print(\"Fin del programa\")\n"
      ],
      "metadata": {
        "id": "Qi_BCjRAP2lk",
        "colab": {
          "base_uri": "https://localhost:8080/"
        },
        "outputId": "2a1127e5-6dd6-4dce-8251-1cff7d359d0c"
      },
      "execution_count": 17,
      "outputs": [
        {
          "output_type": "stream",
          "name": "stdout",
          "text": [
            "por encima de diez,\n",
            "y también por encima de 20!\n",
            "Fin del programa\n"
          ]
        }
      ]
    },
    {
      "cell_type": "code",
      "source": [
        "# Asignamos el valor 15 a la variable 'x'\n",
        "x = 15\n",
        "\n",
        "# Verificamos si 'x' es mayor que 10\n",
        "if x > 10:\n",
        "    print(\"por encima de diez,\")  # Se ejecuta porque 15 > 10\n",
        "\n",
        "    # Ahora verificamos si 'x' es mayor que 20\n",
        "    if x > 20:\n",
        "        print(\"y también por encima de 20!\")  # No se ejecuta porque 15 no es mayor que 20\n",
        "    else:\n",
        "        print(\"pero no por encima de 20\")  # Se ejecuta porque 15 no es mayor que 20\n"
      ],
      "metadata": {
        "id": "YCEpZyvxP-sV",
        "colab": {
          "base_uri": "https://localhost:8080/"
        },
        "outputId": "910c23dd-5a26-4412-f4f1-0a7e81a0f1df"
      },
      "execution_count": 18,
      "outputs": [
        {
          "output_type": "stream",
          "name": "stdout",
          "text": [
            "por encima de diez,\n",
            "pero no por encima de 20\n"
          ]
        }
      ]
    },
    {
      "cell_type": "code",
      "source": [
        "# Lista de usuarios registrados\n",
        "lista_usuario = [\"Jose\", \"Joel\", \"Julia\", \"Itatí\", \"Lucía\", \"Luz\", \"Franco\", \"Gaspar\", \"Gabriel\", \"Germán\"]\n",
        "\n",
        "# Pedimos al usuario que ingrese un nombre de usuario\n",
        "usuario = input(\"Ingrese nombre de usuario: \")\n",
        "\n",
        "# Verificamos si el nombre ingresado está en la lista\n",
        "if usuario in lista_usuario:\n",
        "    print(\"¡Bienvenido, usuario!\")\n",
        "else:\n",
        "    print(\"Usuario no registrado.\")\n"
      ],
      "metadata": {
        "id": "myNM0TiGMlpC",
        "colab": {
          "base_uri": "https://localhost:8080/"
        },
        "outputId": "37570fc3-6cb5-41a6-f0db-c6dfae9d4f93"
      },
      "execution_count": 20,
      "outputs": [
        {
          "output_type": "stream",
          "name": "stdout",
          "text": [
            "Ingrese nombre de usuario: Jose\n",
            "¡Bienvenido, usuario!\n"
          ]
        }
      ]
    },
    {
      "cell_type": "markdown",
      "source": [
        "### If en una línea con else\n",
        "Otros ejemplos de implementación"
      ],
      "metadata": {
        "id": "Qw_w4Mq5PUhE"
      }
    },
    {
      "cell_type": "code",
      "source": [
        "a = 150\n",
        "b = 35\n",
        "if a > b: print(\"a es mayor que b\")\n"
      ],
      "metadata": {
        "id": "eJfEEL9uPfrU",
        "colab": {
          "base_uri": "https://localhost:8080/"
        },
        "outputId": "a1b678b2-1b2d-47e6-b8d8-19539405926b"
      },
      "execution_count": 22,
      "outputs": [
        {
          "output_type": "stream",
          "name": "stdout",
          "text": [
            "a es mayor que b\n"
          ]
        }
      ]
    },
    {
      "cell_type": "code",
      "source": [
        "a = 5\n",
        "b = 150\n",
        "print(\"A\") if a > b else print(\"B\")\n"
      ],
      "metadata": {
        "colab": {
          "base_uri": "https://localhost:8080/"
        },
        "id": "eMyvmHgH1-QF",
        "outputId": "7ceca9c8-fa43-4572-ea1b-cd5f7dc2e4b6"
      },
      "execution_count": 23,
      "outputs": [
        {
          "output_type": "stream",
          "name": "stdout",
          "text": [
            "B\n"
          ]
        }
      ]
    },
    {
      "cell_type": "code",
      "source": [
        "a = 150\n",
        "b = 330\n",
        "print(\"A\") if a > b else (print(\"=\") if a == b else print(\"B\"))\n"
      ],
      "metadata": {
        "colab": {
          "base_uri": "https://localhost:8080/"
        },
        "id": "XUkM-LwL2Ibu",
        "outputId": "554a7014-6f2a-47e5-f176-bc7acfe87afa"
      },
      "execution_count": 24,
      "outputs": [
        {
          "output_type": "stream",
          "name": "stdout",
          "text": [
            "B\n"
          ]
        }
      ]
    },
    {
      "cell_type": "code",
      "source": [
        "a = 5\n",
        "b = 150\n",
        "valor = a if a > b else b\n",
        "print(valor)\n"
      ],
      "metadata": {
        "colab": {
          "base_uri": "https://localhost:8080/"
        },
        "id": "D6kl6_JJ2Kcd",
        "outputId": "5ac72969-803e-4f73-ff0c-52179f0fe315"
      },
      "execution_count": 25,
      "outputs": [
        {
          "output_type": "stream",
          "name": "stdout",
          "text": [
            "150\n"
          ]
        }
      ]
    },
    {
      "cell_type": "markdown",
      "source": [
        "## elif"
      ],
      "metadata": {
        "id": "hWiDwt51LVmx"
      }
    },
    {
      "cell_type": "code",
      "source": [
        "a = 2 + 3  # Esto da como resultado 5\n",
        "\n",
        "if a == 4:\n",
        "    print(\"A es igual a cuatro\")\n",
        "\n",
        "if a == 5:\n",
        "    print(\"A es igual a cinco\")\n",
        "\n",
        "if a == 6:\n",
        "    print(\"A es igual a seis\")\n",
        "\n",
        "if a != 4 and a != 5 and a != 6:\n",
        "    print(\"No se cumple la condición\")\n"
      ],
      "metadata": {
        "id": "qCTsfX0ZQIs4",
        "colab": {
          "base_uri": "https://localhost:8080/"
        },
        "outputId": "ffd9610b-9f96-4f6b-df67-f267e78183e2"
      },
      "execution_count": 26,
      "outputs": [
        {
          "output_type": "stream",
          "name": "stdout",
          "text": [
            "A es igual a cinco\n"
          ]
        }
      ]
    },
    {
      "cell_type": "code",
      "source": [
        "a = 2 + 3  # Esto da como resultado 5\n",
        "\n",
        "if a == 4:\n",
        "    print(\"A es igual a cuatro\")\n",
        "else:\n",
        "    if a == 5:\n",
        "        print(\"A es igual a cinco\")\n",
        "    else:\n",
        "        if a == 6:\n",
        "            print(\"A es igual a seis\")\n",
        "        else:\n",
        "            print(\"No se cumple la condición\")\n"
      ],
      "metadata": {
        "id": "CrPbHhKkolwI",
        "colab": {
          "base_uri": "https://localhost:8080/"
        },
        "outputId": "ce93f531-9767-4778-faf6-71ad0574ffb2"
      },
      "execution_count": 27,
      "outputs": [
        {
          "output_type": "stream",
          "name": "stdout",
          "text": [
            "A es igual a cinco\n"
          ]
        }
      ]
    },
    {
      "cell_type": "code",
      "source": [
        "# Opción con elif\n",
        "a = 4\n",
        "\n",
        "if a == 4:\n",
        "    print(\"A es igual a cuatro\")\n",
        "elif a == 5:\n",
        "    print(\"A es igual a cinco\")\n",
        "elif a == 6:\n",
        "    print(\"A es igual a seis\")\n",
        "else:\n",
        "    print(\"No se cumple la condición\")"
      ],
      "metadata": {
        "id": "8J3E6o_2M9bE",
        "colab": {
          "base_uri": "https://localhost:8080/"
        },
        "outputId": "899f43d2-0bc4-41e8-9a78-6b3020f2de82"
      },
      "execution_count": 28,
      "outputs": [
        {
          "output_type": "stream",
          "name": "stdout",
          "text": [
            "A es igual a cuatro\n"
          ]
        }
      ]
    }
  ]
}