{
  "nbformat": 4,
  "nbformat_minor": 0,
  "metadata": {
    "colab": {
      "provenance": [],
      "include_colab_link": true
    },
    "kernelspec": {
      "name": "python3",
      "display_name": "Python 3"
    },
    "language_info": {
      "name": "python"
    }
  },
  "cells": [
    {
      "cell_type": "markdown",
      "metadata": {
        "id": "view-in-github",
        "colab_type": "text"
      },
      "source": [
        "<a href=\"https://colab.research.google.com/github/chamomatias/portfolio_python/blob/main/Primera%20pre-entrega_Python_MCh.ipynb\" target=\"_parent\"><img src=\"https://colab.research.google.com/assets/colab-badge.svg\" alt=\"Open In Colab\"/></a>"
      ]
    },
    {
      "cell_type": "markdown",
      "source": [
        "###Primera pre-entrega <br>\n",
        "#ENTREGA DEL PROYECTO FINAL\n"
      ],
      "metadata": {
        "id": "rHG9iqDFZ6MN"
      }
    },
    {
      "cell_type": "markdown",
      "source": [
        "##Objetivo: <br>\n",
        "Practicar el concepto de funciones. Preparar la parte lógica para el registro de usuarios."
      ],
      "metadata": {
        "id": "lPnRQXRKaUV7"
      }
    },
    {
      "cell_type": "markdown",
      "source": [
        "##Consigna: <br>\n",
        "**Crear un programa que permita emular el registro y almacenamiento de usuarios en una base de datos. Crear el programa utilizando el concepto de funciones, diccionarios, bucles y condicionales.**\n"
      ],
      "metadata": {
        "id": "Mb9D310oanFw"
      }
    },
    {
      "cell_type": "markdown",
      "source": [
        "###1. Diccionario para Almacenar Usuarios"
      ],
      "metadata": {
        "id": "kIh90ZxwoKcd"
      }
    },
    {
      "cell_type": "code",
      "source": [
        "# Diccionario para almacenar los usuarios registrados\n",
        "usuarios = {}"
      ],
      "metadata": {
        "id": "iL78sxbcawUk"
      },
      "execution_count": null,
      "outputs": []
    },
    {
      "cell_type": "markdown",
      "source": [
        "- Este diccionario usuarios almacena los nombres de usuario como claves y las contraseñas como valores. Al usar un diccionario, podemos acceder rápidamente a un usuario y su contraseña, lo que facilita la verificación de inicio de sesión y el registro."
      ],
      "metadata": {
        "id": "7pf7bTQzb2Nf"
      }
    },
    {
      "cell_type": "markdown",
      "source": [
        "### 2. Función registrar_usuario():"
      ],
      "metadata": {
        "id": "ik9wgL5Eb-Er"
      }
    },
    {
      "cell_type": "code",
      "source": [
        "def registrar_usuario():\n",
        "    nombre = input(\"Ingrese un nombre de usuario: \")\n",
        "    if nombre in usuarios:\n",
        "        print(\"Ese nombre ya está registrado.\")\n",
        "        return\n",
        "\n",
        "    contraseña = input(\"Ingrese una contraseña que contenga una mayúscula y un carácter especial: \")\n",
        "    if validar_contraseña(contraseña):\n",
        "        usuarios[nombre] = contraseña\n",
        "        print(\"Usuario registrado con éxito.\")\n",
        "    else:\n",
        "        print(\"Error: la contraseña debe tener al menos una mayúscula y un carácter especial.\")"
      ],
      "metadata": {
        "id": "Ry1PYXCRcFpn"
      },
      "execution_count": null,
      "outputs": []
    },
    {
      "cell_type": "markdown",
      "source": [
        "La función registrar_usuario se encarga de:<br>1- Solicitar un nombre de usuario y verificar si ya existe en el diccionario usuarios.<br>2- Si el nombre está disponible, solicita una contraseña y llama a la función validar_contraseña.<br>3- Si la contraseña cumple los requisitos, se agrega el usuario al diccionario; de lo contrario, se muestra un mensaje de error.<br><br>Esto permite que cada usuario registrado tenga un nombre único y cumpla con ciertos requisitos de seguridad en la contraseña."
      ],
      "metadata": {
        "id": "XVFVOblucWSk"
      }
    },
    {
      "cell_type": "markdown",
      "source": [
        "###3. Función para Validar la Contraseña"
      ],
      "metadata": {
        "id": "miSKdoEnkj6h"
      }
    },
    {
      "cell_type": "code",
      "source": [
        "def validar_contraseña(contraseña):\n",
        "    tiene_mayuscula = any(caracter.isupper() for caracter in contraseña)\n",
        "    tiene_especial = any(caracter in \"!@#$%^&*()-_=+[]{};:',.<>/?\\\\\" for caracter in contraseña)\n",
        "    return tiene_mayuscula and tiene_especial"
      ],
      "metadata": {
        "id": "fZJfkDuSkqYg"
      },
      "execution_count": null,
      "outputs": []
    },
    {
      "cell_type": "markdown",
      "source": [
        "La función validar_contraseña verifica que la contraseña cumpla con dos requisitos:<br>1- Al menos una letra mayúscula.<br>2- Al menos un carácter especial de los que se encuentran en una lista específica.<br><br>Si la contraseña cumple ambos requisitos, la función devuelve True; de lo contrario, devuelve False. Esto ayuda a garantizar que las contraseñas sean más seguras."
      ],
      "metadata": {
        "id": "Iy2BXF6_dPnU"
      }
    },
    {
      "cell_type": "markdown",
      "source": [
        "###4. Función para Mostrar los Usuarios Registrados"
      ],
      "metadata": {
        "id": "RruWjmQ7d0bU"
      }
    },
    {
      "cell_type": "code",
      "source": [
        "def mostrar_usuarios():\n",
        "    if usuarios:\n",
        "        print(\"Estos son todos los usuarios registrados:\")\n",
        "        for usuario, contraseña in usuarios.items():\n",
        "            print(f\"Usuario: {usuario}, Contraseña: {contraseña}\")\n",
        "    else:\n",
        "        print(\"Sin usuarios registrados en el sistema.\")"
      ],
      "metadata": {
        "id": "HRXWst28eBBb"
      },
      "execution_count": null,
      "outputs": []
    },
    {
      "cell_type": "markdown",
      "source": [
        "La función mostrar_usuarios muestra una lista de los nombres de usuarios registrados. Recorre el diccionario usuarios e imprime solo el nombre de usuario sin la contraseña, manteniendo cierta privacidad. Si no hay usuarios registrados, informa que el sistema está vacío."
      ],
      "metadata": {
        "id": "Q5LlZmoZeEU6"
      }
    },
    {
      "cell_type": "markdown",
      "source": [
        "###5. Función para Iniciar Sesión"
      ],
      "metadata": {
        "id": "RDneJOz0l8tg"
      }
    },
    {
      "cell_type": "code",
      "source": [
        "def ingresar():\n",
        "    nombre = input(\"Ingrese nombre de usuario: \")\n",
        "    if nombre in usuarios:\n",
        "        contraseña = input(\"Ingrese contraseña: \")\n",
        "        if contraseña == usuarios[nombre]:\n",
        "            print(\"Acceso permitido. Bienvenido/a al sistema.\")\n",
        "        else:\n",
        "            print(\"Contraseña incorrecta.\")\n",
        "    else:\n",
        "        print(\"Usuario no encontrado.\")"
      ],
      "metadata": {
        "id": "wrNd37CEl97H"
      },
      "execution_count": null,
      "outputs": []
    },
    {
      "cell_type": "markdown",
      "source": [
        "La función ingresar permite a los usuarios autenticarse en el sistema:<br>1. Solicita el nombre de usuario y verifica si existe en el diccionario.<br>2. Si el nombre existe, solicita la contraseña y la compara con la almacenada.<br>3. Si coinciden, muestra un mensaje de bienvenida; si no, indica que la contraseña es incorrecta."
      ],
      "metadata": {
        "id": "1YOlFMCBmHUR"
      }
    },
    {
      "cell_type": "markdown",
      "source": [
        "###6. Función del Menú Principal"
      ],
      "metadata": {
        "id": "Fy_CiM9smjP6"
      }
    },
    {
      "cell_type": "code",
      "source": [
        "def menu():\n",
        "    while True:\n",
        "        print(\"\\n1. Registrar un usuario\")\n",
        "        print(\"2. Mostrar todos los usuarios\")\n",
        "        print(\"3. Iniciar sesión\")\n",
        "        print(\"4. Salir\")\n",
        "        opcion = input(\"Seleccione una opción: \")\n",
        "\n",
        "        if opcion == '1':\n",
        "            registrar_usuario()\n",
        "        elif opcion == '2':\n",
        "            mostrar_usuarios()\n",
        "        elif opcion == '3':\n",
        "            ingresar()\n",
        "        elif opcion == '4':\n",
        "            print(\"Saliendo del programa...\")\n",
        "            break\n",
        "        else:\n",
        "            print(\"Opción no válida, intente de nuevo.\")\n"
      ],
      "metadata": {
        "id": "jVlc92yWmqO4"
      },
      "execution_count": null,
      "outputs": []
    },
    {
      "cell_type": "markdown",
      "source": [
        "La función menu es el núcleo del programa. Muestra opciones y ejecuta la acción correspondiente según la elección del usuario:<br>1: Llama a registrar_usuario para registrar un nuevo usuario.<br>2: Llama a mostrar_usuarios para listar los usuarios registrados.<br>3: Llama a ingresar para iniciar sesión con un usuario.<br> 4: Termina el programa.<br><br>Este bucle permite al usuario interactuar de forma continua hasta que elige salir."
      ],
      "metadata": {
        "id": "oe44Jlgimu7_"
      }
    },
    {
      "cell_type": "markdown",
      "source": [
        "###7. Ejecución del Programa"
      ],
      "metadata": {
        "id": "aB6Wlsacm_cu"
      }
    },
    {
      "cell_type": "code",
      "source": [
        "menu()"
      ],
      "metadata": {
        "colab": {
          "base_uri": "https://localhost:8080/"
        },
        "id": "N_8YCwu9nC6r",
        "outputId": "239f844f-0b34-45cd-a437-14f78e41d255"
      },
      "execution_count": null,
      "outputs": [
        {
          "output_type": "stream",
          "name": "stdout",
          "text": [
            "\n",
            "1. Registrar un usuario\n",
            "2. Mostrar todos los usuarios\n",
            "3. Iniciar sesión\n",
            "4. Salir\n"
          ]
        }
      ]
    },
    {
      "cell_type": "markdown",
      "source": [
        "Este es el punto de inicio del programa, que llama a la función menu para iniciar la interacción con el usuario.\n"
      ],
      "metadata": {
        "id": "d1YRVYtinHr6"
      }
    }
  ]
}