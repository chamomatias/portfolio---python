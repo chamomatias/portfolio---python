{
  "nbformat": 4,
  "nbformat_minor": 0,
  "metadata": {
    "colab": {
      "provenance": [],
      "authorship_tag": "ABX9TyOfQVQk1S7NGfG9FAXzmImE",
      "include_colab_link": true
    },
    "kernelspec": {
      "name": "python3",
      "display_name": "Python 3"
    },
    "language_info": {
      "name": "python"
    }
  },
  "cells": [
    {
      "cell_type": "markdown",
      "metadata": {
        "id": "view-in-github",
        "colab_type": "text"
      },
      "source": [
        "<a href=\"https://colab.research.google.com/github/chamomatias/python---ejercicios/blob/main/ejercicios_241201_clases.ipynb\" target=\"_parent\"><img src=\"https://colab.research.google.com/assets/colab-badge.svg\" alt=\"Open In Colab\"/></a>"
      ]
    },
    {
      "cell_type": "markdown",
      "source": [
        "<!DOCTYPE html>\n",
        "<html lang=\"es\">\n",
        "<head>\n",
        "    <meta charset=\"UTF-8\">\n",
        "    <meta name=\"viewport\" content=\"width=device-width, initial-scale=1.0\">\n",
        "    <title>Ejercicio de Clases en Python</title>\n",
        "</head>\n",
        "<body>\n",
        "    <h1>Ejercicio: Clase Coche</h1>\n",
        "    <p>Crea una clase llamada <strong>Coche</strong> con las siguientes características:</p>\n",
        "    <ol>\n",
        "        <li><strong>Atributos:</strong>\n",
        "            <ul>\n",
        "                <li><code>marca</code> (str)</li>\n",
        "                <li><code>modelo</code> (str)</li>\n",
        "                <li><code>año</code> (int)</li>\n",
        "            </ul>\n",
        "        </li>\n",
        "        <li><strong>Método constructor (<code>__init__</code>)</strong>:\n",
        "            <p>Inicializa los atributos con los valores que reciba como parámetros.</p>\n",
        "        </li>\n",
        "        <li><strong>Métodos:</strong>\n",
        "            <ul>\n",
        "                <li><code>mostrar_informacion</code>: Imprime un mensaje como:<br>\n",
        "                    <em>\"Este coche es un [marca] [modelo] del año [año].\"</em>\n",
        "                </li>\n",
        "            </ul>\n",
        "        </li>\n",
        "        <li><strong>Objetivo:</strong>\n",
        "            <p>Crea un objeto de la clase <code>Coche</code> con los datos de tu coche o inventa uno, y llama al método <code>mostrar_informacion</code>.</p>\n",
        "        </li>\n",
        "    </ol>\n",
        "    <h2>Ejemplo de Resultado Esperado:</h2>\n",
        "    <pre>\n",
        "Este coche es un Toyota Corolla del año 2020.\n",
        "    </pre>\n",
        "</body>\n",
        "</html>\n"
      ],
      "metadata": {
        "id": "9tXJXWT790qp"
      }
    },
    {
      "cell_type": "code",
      "source": [
        "class Coche():\n",
        "\n",
        "    #Atributos de clase\n",
        "    marca=str\n",
        "    modelo=str\n",
        "    anio=int\n",
        "\n",
        "    #Atributos de instancia\n",
        "    def __init__(self,marca,modelo,anio):\n",
        "        self.marca=marca\n",
        "        self.modelo=modelo\n",
        "        self.anio=anio\n",
        "\n",
        "    #Metodos\n",
        "    def mostrar_informacion(self):\n",
        "        print(f\"Este coche es un {self.marca} {self.modelo} del año {self.anio}.\")\n",
        "\n",
        "objeto = Coche(\"Toyota\", \"Corolla\", 2020)\n",
        "objeto.mostrar_informacion()"
      ],
      "metadata": {
        "colab": {
          "base_uri": "https://localhost:8080/"
        },
        "id": "Ujw7LZ2ODm97",
        "outputId": "ae4bf23b-99d1-485a-f46b-47574af19cc6"
      },
      "execution_count": null,
      "outputs": [
        {
          "output_type": "stream",
          "name": "stdout",
          "text": [
            "Este coche es un Toyota Corolla del año 2020.\n"
          ]
        }
      ]
    },
    {
      "cell_type": "markdown",
      "source": [
        "<!DOCTYPE html>\n",
        "<html lang=\"es\">\n",
        "<head>\n",
        "    <meta charset=\"UTF-8\">\n",
        "    <meta name=\"viewport\" content=\"width=device-width, initial-scale=1.0\">\n",
        "    <title>Ejercicio de Clases en Python</title>\n",
        "</head>\n",
        "<body>\n",
        "    <h1>Ejercicio: Clase Animal</h1>\n",
        "    <p>Crea una clase llamada <strong>Animal</strong> con las siguientes características:</p>\n",
        "    <ol>\n",
        "        <li><strong>Atributos:</strong>\n",
        "            <ul>\n",
        "                <li><code>nombre</code> (str)</li>\n",
        "                <li><code>especie</code> (str)</li>\n",
        "                <li><code>edad</code> (int)</li>\n",
        "            </ul>\n",
        "        </li>\n",
        "        <li><strong>Método constructor (<code>__init__</code>)</strong>:\n",
        "            <p>Inicializa los atributos con los valores que reciba como parámetros.</p>\n",
        "        </li>\n",
        "        <li><strong>Métodos:</strong>\n",
        "            <ul>\n",
        "                <li><code>describir</code>: Imprime un mensaje como:<br>\n",
        "                    <em>\"Este es un [especie] llamado [nombre], tiene [edad]    \n",
        "                </li>\n",
        "                <li><code>cumplir_anios</code>: Aumenta la edad del animal en 1 año e imprime:<br>\n",
        "                    <em>\"Ahora [nombre] tiene [edad] años.\"</em>\n",
        "                </li>\n",
        "            </ul>\n",
        "        </li>\n",
        "        <li><strong>Objetivo:</strong>\n",
        "            <p>Crea un objeto de la clase <code>Animal</code> con cualquier dato que prefieras, llama al método <code>describir</code> y luego usa el método <code>cumplir_anios</code>.</p>\n",
        "        </li>\n",
        "    </ol>\n",
        "    <h2>Ejemplo de Resultado Esperado:</h2>\n",
        "    <pre>\n",
        "Este es un perro llamado Bobby, tiene 3 años.\n",
        "Ahora Bobby tiene 4 años.\n",
        "    </pre>\n",
        "</body>\n",
        "</html>\n"
      ],
      "metadata": {
        "id": "R3xjFujcS72y"
      }
    },
    {
      "cell_type": "code",
      "source": [
        "class Animal():\n",
        "    # Atributo de instancia\n",
        "    def __init__(self, nombre, especie, edad):\n",
        "        self.nombre = nombre\n",
        "        self.especie = especie\n",
        "        self.edad = edad\n",
        "\n",
        "    # Métodos\n",
        "    def describir(self):\n",
        "        print(f\"Este es un {self.especie} llamado {self.nombre}, tiene {self.edad} años.\")\n",
        "\n",
        "    def cumplir_anios(self):\n",
        "        self.edad += 1  # Incrementa la edad\n",
        "        print(f\"Ahora {self.nombre} tiene {self.edad} años.\")\n",
        "\n",
        "# Crear un objeto de la clase Animal\n",
        "objeto1 = Animal(\"Bobby\", \"perro\", 3)\n",
        "objeto1.describir()\n",
        "objeto1.cumplir_anios()\n"
      ],
      "metadata": {
        "colab": {
          "base_uri": "https://localhost:8080/"
        },
        "id": "G31DB01dU2yv",
        "outputId": "a990f9a2-ed0a-4527-9cdc-752e0e3308cf"
      },
      "execution_count": null,
      "outputs": [
        {
          "output_type": "stream",
          "name": "stdout",
          "text": [
            "Este es un perro llamado Bobby, tiene 3 años.\n",
            "Ahora Bobby tiene 4 años.\n"
          ]
        }
      ]
    },
    {
      "cell_type": "markdown",
      "source": [
        "<!DOCTYPE html>\n",
        "<html lang=\"es\">\n",
        "<head>\n",
        "    <meta charset=\"UTF-8\">\n",
        "    <meta name=\"viewport\" content=\"width=device-width, initial-scale=1.0\">\n",
        "    <title>Ejercicio de Clases en Python</title>\n",
        "</head>\n",
        "<body>\n",
        "    <h1>Ejercicio: Clase CuentaBancaria</h1>\n",
        "    <p>Crea una clase llamada <strong>CuentaBancaria</strong> con las siguientes características:</p>\n",
        "    <ol>\n",
        "        <li><strong>Atributos de instancia:</strong>\n",
        "            <ul>\n",
        "                <li><code>titular</code> (str): El nombre del titular de la cuenta.</li>\n",
        "                <li><code>saldo</code> (float): El saldo disponible en la cuenta. Inicializa este atributo con un valor de 0.</li>\n",
        "            </ul>\n",
        "        </li>\n",
        "        <li><strong>Métodos:</strong>\n",
        "            <ul>\n",
        "                <li><code>ingresar(dinero)</code>: Este método debe recibir una cantidad de dinero (un número flotante) y sumarla al saldo de la cuenta.</li>\n",
        "                <li><code>retirar(dinero)</code>: Este método debe recibir una cantidad de dinero y restarla del saldo de la cuenta, pero solo si el saldo es suficiente. Si no lo es, debe imprimir un mensaje de error.</li>\n",
        "                <li><code>consultar_saldo()</code>: Este método debe mostrar el saldo actual de la cuenta.</li>\n",
        "                <li><code>describir()</code>: Este método debe mostrar un mensaje con el titular de la cuenta y el saldo disponible.</li>\n",
        "            </ul>\n",
        "        </li>\n",
        "        <li><strong>Operaciones:</strong>\n",
        "            <p>Crea un objeto de la clase <code>CuentaBancaria</code> con un titular y realiza las siguientes operaciones:</p>\n",
        "            <ul>\n",
        "                <li>Ingresa dinero a la cuenta.</li>\n",
        "                <li>Realiza un retiro.</li>\n",
        "                <li>Consulta el saldo.</li>\n",
        "                <li>Muestra los detalles con el método <code>describir</code>.</li>\n",
        "            </ul>\n",
        "        </li>\n",
        "    </ol>\n",
        "    <h2>Resultado esperado:</h2>\n",
        "    <pre>\n",
        "Cuenta de Juan con saldo actual: 1000\n",
        "Saldo insuficiente para retirar 1500\n",
        "Cuenta de Juan con saldo actual: 500\n",
        "    </pre>\n",
        "</body>\n",
        "</html>\n"
      ],
      "metadata": {
        "id": "JrQenSzOWccX"
      }
    },
    {
      "cell_type": "code",
      "source": [
        "class CuentaBancaria():\n",
        "    # Atributos de instancia\n",
        "    def __init__(self, titular, saldo):\n",
        "        self.titular = titular  # Asigna el valor del titular\n",
        "        self.saldo = saldo  # Asigna el valor del saldo\n",
        "\n",
        "    # Métodos\n",
        "    def ingresar(self, dinero):\n",
        "        self.saldo += dinero  # Incrementa el saldo con el dinero ingresado\n",
        "\n",
        "    def retirar(self, dinero):\n",
        "        if self.saldo >= dinero:  # Verifica si hay suficiente saldo\n",
        "            self.saldo -= dinero  # Resta el dinero del saldo\n",
        "        else:\n",
        "            print(f\"Saldo insuficiente para retirar {dinero}.\")\n",
        "\n",
        "    def consultar_saldo(self):\n",
        "        return self.saldo  # Devuelve el saldo actual\n",
        "\n",
        "    def describir(self):\n",
        "        print(f\"Cuenta de {self.titular} con saldo actual: {self.saldo}.\")\n",
        "\n",
        "# Crear un objeto de la clase CuentaBancaria\n",
        "objeto2 = CuentaBancaria(\"Juan\", 1000)\n",
        "\n",
        "# Operaciones de prueba\n",
        "objeto2.describir()  # Muestra la información de la cuenta\n",
        "objeto2.ingresar(500)  # Ingresa dinero\n",
        "objeto2.describir()  # Muestra la información actualizada\n",
        "objeto2.retirar(300)  # Realiza un retiro\n",
        "objeto2.describir()  # Muestra la información actualizada\n",
        "objeto2.retirar(1500)  # Intenta retirar más de lo que tiene\n",
        "objeto2.describir()  # Muestra la información actualizada\n"
      ],
      "metadata": {
        "colab": {
          "base_uri": "https://localhost:8080/"
        },
        "id": "yjf10iPIWm6m",
        "outputId": "53186091-bafa-41d9-e155-90e0799d4cfb"
      },
      "execution_count": null,
      "outputs": [
        {
          "output_type": "stream",
          "name": "stdout",
          "text": [
            "Cuenta de Juan con saldo actual: 1000.\n",
            "Cuenta de Juan con saldo actual: 1500.\n",
            "Cuenta de Juan con saldo actual: 1200.\n",
            "Saldo insuficiente para retirar 1500.\n",
            "Cuenta de Juan con saldo actual: 1200.\n"
          ]
        }
      ]
    },
    {
      "cell_type": "code",
      "source": [
        "class CuentaBancaria():\n",
        "    # Atributos de instancia\n",
        "    def __init__(self, titular, saldo):\n",
        "        self.titular = titular  # Asigna el valor del titular\n",
        "        self.saldo = saldo  # Asigna el valor del saldo\n",
        "\n",
        "    # Métodos\n",
        "    def ingresar(self, dinero):\n",
        "        self.saldo += dinero  # Incrementa el saldo con el dinero ingresado\n",
        "\n",
        "    def retirar(self, dinero):\n",
        "        if self.saldo >= dinero:  # Verifica si hay suficiente saldo\n",
        "            self.saldo -= dinero  # Resta el dinero del saldo\n",
        "            print(f\"Se ha retirado {dinero}. Saldo restante: {self.saldo}.\")\n",
        "        else:\n",
        "            print(f\"Saldo insuficiente para retirar {dinero}.\")\n",
        "\n",
        "    def consultar_saldo(self):\n",
        "        return self.saldo  # Devuelve el saldo actual\n",
        "\n",
        "    def describir(self):\n",
        "        print(f\"Cuenta de {self.titular} con saldo actual: {self.saldo}.\")\n",
        "\n",
        "# Crear un objeto de la clase CuentaBancaria\n",
        "objeto2 = CuentaBancaria(\"Juan\", 500)\n",
        "\n",
        "# Operaciones de prueba\n",
        "objeto2.describir()  # Muestra la información de la cuenta\n",
        "objeto2.ingresar(500)  # Ingresa dinero\n",
        "objeto2.describir()  # Muestra la información actualizada\n",
        "objeto2.retirar(300)  # Realiza un retiro\n",
        "objeto2.describir()  # Muestra la información actualizada\n",
        "objeto2.retirar(1500)  # Intenta retirar más de lo que tiene\n",
        "objeto2.describir()  # Muestra la información actualizada\n"
      ],
      "metadata": {
        "colab": {
          "base_uri": "https://localhost:8080/"
        },
        "id": "EF1HzR05ejIb",
        "outputId": "cd26fbbd-c3a5-4cb8-96ae-fd8de8c99345"
      },
      "execution_count": null,
      "outputs": [
        {
          "output_type": "stream",
          "name": "stdout",
          "text": [
            "Cuenta de Juan con saldo actual: 500.\n",
            "Cuenta de Juan con saldo actual: 1000.\n",
            "Se ha retirado 300. Saldo restante: 700.\n",
            "Cuenta de Juan con saldo actual: 700.\n",
            "Saldo insuficiente para retirar 1500.\n",
            "Cuenta de Juan con saldo actual: 700.\n"
          ]
        }
      ]
    },
    {
      "cell_type": "markdown",
      "source": [
        "<!DOCTYPE html>\n",
        "<html lang=\"es\">\n",
        "<head>\n",
        "    <meta charset=\"UTF-8\">\n",
        "    <meta name=\"viewport\" content=\"width=device-width, initial-scale=1.0\">\n",
        "    <title>Ejercicio: Clase Libro</title>\n",
        "</head>\n",
        "<body>\n",
        "    <p>Crea una clase llamada <strong>Libro</strong> con las siguientes características:</p>\n",
        "    <ul>\n",
        "        <li><strong>Atributos de instancia:</strong>\n",
        "            <ul>\n",
        "                <li><strong>titulo:</strong> El título del libro (cadena).</li>\n",
        "                <li><strong>autor:</strong> El autor del libro (cadena).</li>\n",
        "                <li><strong>anio:</strong> El año de publicación (entero).</li>\n",
        "                <li><strong>disponible:</strong> Indica si el libro está disponible para prestar (por defecto, <em>True</em>).</li>\n",
        "            </ul>\n",
        "        </li>\n",
        "        <li><strong>Métodos:</strong>\n",
        "            <ul>\n",
        "                <li><strong>prestar():</strong> Cambia <em>disponible</em> a <em>False</em> y muestra un mensaje indicando que el libro fue prestado. Si ya está prestado, muestra un mensaje diciendo que no está disponible.</li>\n",
        "                <li><strong>devolver():</strong> Cambia <em>disponible</em> a <em>True</em> y muestra un mensaje indicando que el libro fue devuelto.</li>\n",
        "                <li><strong>informacion():</strong> Muestra la información completa del libro: título, autor, año y si está disponible.</li>\n",
        "            </ul>\n",
        "        </li>\n",
        "    </ul>\n",
        "\n",
        "<p><strong>Ejemplo:</strong></p>\n",
        "<pre><code>\n",
        "libro1 = Libro(\"Cien años de soledad\", \"Gabriel García Márquez\", 1967)\n",
        "libro1.informacion()\n",
        "libro1.prestar()\n",
        "libro1.prestar()\n",
        "libro1.devolver()\n",
        "libro1.informacion()\n",
        "</code></pre>\n",
        "\n",
        "<p><strong>Salida esperada:</strong></p>\n",
        "<pre><code>\n",
        "Título: Cien años de soledad, Autor: Gabriel García Márquez, Año: 1967, Disponible: Sí\n",
        "El libro \"Cien años de soledad\" ha sido prestado.\n",
        "El libro \"Cien años de soledad\" no está disponible para prestar.\n",
        "El libro \"Cien años de soledad\" ha sido devuelto.\n",
        "Título: Cien años de soledad, Autor: Gabriel García Márquez, Año: 1967, Disponible: Sí\n",
        "</code></pre>\n",
        "\n",
        "</body>\n",
        "</html>\n"
      ],
      "metadata": {
        "id": "akm3sDCObG6v"
      }
    },
    {
      "cell_type": "code",
      "source": [
        "class Libro():\n",
        "    #Atributos de clase\n",
        "\n",
        "    #Atributos de instancia\n",
        "    def __init__(self, titulo, autor, anio, disponible=True):\n",
        "        self.titulo = titulo\n",
        "        self.autor = autor\n",
        "        self.anio = anio\n",
        "        self.disponible = disponible\n",
        "\n",
        "    #Métodos\n",
        "    def prestar(self):\n",
        "        if self.disponible:\n",
        "            self.disponible = False\n",
        "            print(f'El libro \"{self.titulo}\" ha sido prestado.')\n",
        "\n",
        "            return\n",
        "        print(f'El libro \"{self.titulo}\" no está disponible para prestar.')\n",
        "\n",
        "    def devolver(self):\n",
        "        if not self.disponible:\n",
        "            self.disponible = True\n",
        "            print(f'El libro \"{self.titulo}\" ha sido devuelto.')\n",
        "        else:\n",
        "            print(f'El libro \"{self.titulo}\" ya está disponible.')\n",
        "\n",
        "\n",
        "\n",
        "\n",
        "    def informacion(self):\n",
        "        print(f'Título: {self.titulo}, Autor: {self.autor}, Año: {self.anio}, Disponible: {\"Sí\" if self.disponible else \"No\"}')\n",
        "\n",
        "libro1=Libro(\"Cien años de soledad\", \"Gabriel García Márquez\", 1967)\n",
        "libro1.informacion()\n",
        "libro1.prestar()\n",
        "libro1.prestar()\n",
        "libro1.devolver()\n",
        "libro1.informacion()"
      ],
      "metadata": {
        "colab": {
          "base_uri": "https://localhost:8080/"
        },
        "id": "0r8Ez4yPiG1F",
        "outputId": "93c8d0ef-cc16-4a4c-9825-4ece2e960f15"
      },
      "execution_count": 6,
      "outputs": [
        {
          "output_type": "stream",
          "name": "stdout",
          "text": [
            "Título: Cien años de soledad, Autor: Gabriel García Márquez, Año: 1967, Disponible: Sí\n",
            "El libro \"Cien años de soledad\" ha sido prestado.\n",
            "El libro \"Cien años de soledad\" no está disponible para prestar.\n",
            "El libro \"Cien años de soledad\" ha sido devuelto.\n",
            "Título: Cien años de soledad, Autor: Gabriel García Márquez, Año: 1967, Disponible: Sí\n"
          ]
        }
      ]
    },
    {
      "cell_type": "markdown",
      "source": [
        "<p>Implementa una clase <code>Cafetera</code> con:</p>\n",
        "\n",
        "<ul>\n",
        "    <li>Atributos de instancia:\n",
        "        <ul>\n",
        "            <li><code>capacidad_maxima</code>: cantidad máxima de café.</li>\n",
        "            <li><code>cantidad_actual</code>: cantidad actual de café.</li>\n",
        "        </ul>\n",
        "    </li>\n",
        "    <li>Métodos:\n",
        "        <ul>\n",
        "            <li><code>llenar_cafetera()</code>: Llena la cafetera al máximo.</li>\n",
        "            <li><code>servir_taza(tamano_taza)</code>: Sirve café según el tamaño de la taza.</li>\n",
        "            <li><code>vaciar_cafetera()</code>: Vacía la cafetera.</li>\n",
        "            <li><code>agregar_cafe(cantidad)</code>: Agrega café.</li>\n",
        "        </ul>\n",
        "    </li>\n",
        "</ul>\n",
        "\n",
        "<p><strong>Ejemplo:</strong></p>\n",
        "<pre>\n",
        "cafetera = Cafetera(1000)\n",
        "cafetera.llenar_cafetera()\n",
        "cafetera.servir_taza(250)\n",
        "cafetera.servir_taza(800)\n",
        "cafetera.agregar_cafe(500)\n",
        "cafetera.vaciar_cafetera()\n",
        "</pre>\n",
        "\n",
        "<p><strong>Salida esperada:</strong></p>\n",
        "<pre>\n",
        "La cafetera ha sido llenada al máximo (1000 ml).\n",
        "Se sirvieron 250 ml de café. Quedan 750 ml en la cafetera.\n",
        "No hay suficiente café. Solo se sirvieron 750 ml. Ahora la cafetera está vacía.\n",
        "Se han agregado 500 ml de café. Ahora hay 500 ml en la cafetera.\n",
        "La cafetera ha sido vaciada.\n",
        "</pre>\n"
      ],
      "metadata": {
        "id": "otKBO9UBkptK"
      }
    },
    {
      "cell_type": "code",
      "source": [
        "class Cafetera():\n",
        "    def __init__(self, capacidad_maxima, cantidad_actual=0):\n",
        "        self.capacidad_maxima = capacidad_maxima\n",
        "        self.cantidad_actual = cantidad_actual\n",
        "\n",
        "    def llenar_cafetera(self):\n",
        "        self.cantidad_actual = self.capacidad_maxima\n",
        "        print(f'La cafetera ha sido llenada al máximo ({self.capacidad_maxima} ml).')\n",
        "\n",
        "    def servir_taza(self, tamano_taza):\n",
        "        if self.cantidad_actual >= tamano_taza:\n",
        "            self.cantidad_actual -= tamano_taza\n",
        "\n",
        "cafetera = Cafetera(1000)\n",
        "cafetera.llenar_cafetera()\n",
        "cafetera.servir_taza(1001)"
      ],
      "metadata": {
        "colab": {
          "base_uri": "https://localhost:8080/"
        },
        "id": "J1H27nkjlfK3",
        "outputId": "5184a933-be11-4a74-e9b3-4443550e48aa"
      },
      "execution_count": 10,
      "outputs": [
        {
          "output_type": "stream",
          "name": "stdout",
          "text": [
            "La cafetera ha sido llenada al máximo (1000 ml).\n"
          ]
        }
      ]
    }
  ]
}